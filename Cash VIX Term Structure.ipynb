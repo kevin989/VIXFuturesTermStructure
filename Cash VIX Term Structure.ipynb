{
 "cells": [
  {
   "cell_type": "code",
   "execution_count": 10,
   "metadata": {},
   "outputs": [],
   "source": [
    "import numpy as np\n",
    "import pandas as pd\n",
    "from pandas_datareader import data as web\n",
    "from datetime import datetime\n",
    "import matplotlib.pyplot as plt"
   ]
  },
  {
   "cell_type": "code",
   "execution_count": 11,
   "metadata": {},
   "outputs": [],
   "source": [
    "#Set the VIX tickers in a list\n",
    "start = datetime.today()\n",
    "symbols_list = ['^VIX9D', '^VIX', '^VIX3M', '^VIX6M', '^VIX1Y']\n",
    "start = datetime.date(start)"
   ]
  },
  {
   "cell_type": "code",
   "execution_count": 12,
   "metadata": {},
   "outputs": [],
   "source": [
    "# create an empty array to store prices\n",
    "symbols = []\n",
    "\n",
    "#pull the prices for each symbol in the list\n",
    "for ticker in symbols_list:\n",
    "    r = web.get_data_yahoo(ticker, start)\n",
    "    #Add a column called \"Symbol\" where you will store the ticker\n",
    "    r['Symbol'] = ticker\n",
    "    symbols.append(r)"
   ]
  },
  {
   "cell_type": "code",
   "execution_count": 13,
   "metadata": {},
   "outputs": [],
   "source": [
    "# concatenate the symbols array into a dataframe called 'df'\n",
    "df = pd.concat(symbols)\n",
    "df = df.reset_index()\n",
    "#Remove the data that is not under the following headings:\n",
    "df = df[['Adj Close', 'Symbol']]\n",
    "df.set_index('Symbol', inplace=True)\n",
    "df.head()\n",
    "#gives us a table with the following format\n",
    "\n",
    "vix9d = df['Adj Close'][0]\n",
    "vix = df['Adj Close'][1]\n",
    "vix3m = df['Adj Close'][2]\n",
    "vix6m = df['Adj Close'][3]\n",
    "vix1y = df['Adj Close'][4]"
   ]
  },
  {
   "cell_type": "code",
   "execution_count": 14,
   "metadata": {},
   "outputs": [],
   "source": [
    "vix9dVix = round(vix9d/vix,2)\n",
    "vixVix3m = round(vix/vix3m,2)\n",
    "vix3mVix6m = round(vix3m/vix6m,2)\n",
    "vix6mVix1y = round(vix6m/vix1y,2)\n",
    "\n",
    "Contango9DVix = round((vix-vix9d)/vix9d*100,2)\n",
    "ContangoVix3M = round((vix3m-vix)/vix*100,2)\n",
    "Contango3M6M = round((vix6m-vix3m)/vix3m*100,2)\n",
    "Contango6M1Y = round((vix1y-vix6m)/vix6m*100,2)"
   ]
  },
  {
   "cell_type": "code",
   "execution_count": 19,
   "metadata": {},
   "outputs": [
    {
     "name": "stdout",
     "output_type": "stream",
     "text": [
      "VIX9D = $23.41\n",
      "VIX 1 Month = $23.58\n",
      "VIX 3 Months = $26.15\n",
      "VIX 6 Months = $27.39\n",
      "VIX 1 Year = $27.88\n",
      "\n",
      "\n",
      "VIX9D Contango = 0.73%\n",
      "VIX Contango = 10.9%\n",
      "VIX3M Contango = 4.74%\n",
      "VIX6m Contango = 1.79%\n",
      "\n",
      "\n",
      "VIX9D:VIX Ratio = 0.99\n",
      "VIX:VIX3M Ratio = 0.9\n",
      "VIX3M:VIX6M Ratio = 0.95\n",
      "VIX6m:VIX1Y Ratio = 0.98\n"
     ]
    },
    {
     "data": {
      "text/plain": [
       "[<matplotlib.lines.Line2D at 0x212729bf4c8>]"
      ]
     },
     "execution_count": 19,
     "metadata": {},
     "output_type": "execute_result"
    },
    {
     "data": {
      "image/png": "[encoded data removed]",
      "text/plain": [
       "<Figure size 432x288 with 1 Axes>"
      ]
     },
     "metadata": {
      "needs_background": "light"
     },
     "output_type": "display_data"
    }
   ],
   "source": [
    "print(f'VIX9D = ${round(vix9d,2)}\\nVIX 1 Month = ${round(vix,2)}\\nVIX 3 Months = ${round(vix3m,2)}\\nVIX 6 Months = ${round(vix6m,2)}\\nVIX 1 Year = ${round(vix1y,2)}\\n\\n')\n",
    "\n",
    "print(f'VIX9D Contango = {Contango9DVix}%\\nVIX Contango = {ContangoVix3M}%\\nVIX3M Contango = {Contango3M6M}%\\nVIX6m Contango = {Contango6M1Y}%\\n\\n')\n",
    "print(f'VIX9D:VIX Ratio = {vix9dVix}\\nVIX:VIX3M Ratio = {vixVix3m}\\nVIX3M:VIX6M Ratio = {vix3mVix6m}\\nVIX6m:VIX1Y Ratio = {vix6mVix1y}')\n",
    "\n",
    "plt.title('Cash VIX Term Structure')\n",
    "plt.ylabel('Cash VIX Values')\n",
    "plt.text('^VIX9D',df['Adj Close'][0], vix9dVix)\n",
    "plt.text('^VIX',df['Adj Close'][1], vixVix3m)\n",
    "plt.text('^VIX3M',df['Adj Close'][2], vix3mVix6m)\n",
    "plt.text('^VIX6M',df['Adj Close'][3], vix6mVix1y)\n",
    "plt.plot(df, marker='o')\n"
   ]
  },
  {
   "cell_type": "code",
   "execution_count": null,
   "metadata": {},
   "outputs": [],
   "source": []
  }
 ],
 "metadata": {
  "kernelspec": {
   "display_name": "Python 3",
   "language": "python",
   "name": "python3"
  },
  "language_info": {
   "codemirror_mode": {
    "name": "ipython",
    "version": 3
   },
   "file_extension": ".py",
   "mimetype": "text/x-python",
   "name": "python",
   "nbconvert_exporter": "python",
   "pygments_lexer": "ipython3",
   "version": "3.7.4"
  }
 },
 "nbformat": 4,
 "nbformat_minor": 2
}
